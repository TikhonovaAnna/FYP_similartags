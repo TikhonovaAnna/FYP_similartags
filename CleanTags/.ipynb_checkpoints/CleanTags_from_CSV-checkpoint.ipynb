{
 "cells": [
  {
   "cell_type": "code",
   "execution_count": 2,
   "metadata": {},
   "outputs": [],
   "source": [
    "import re\n",
    "import csv"
   ]
  },
  {
   "cell_type": "code",
   "execution_count": 3,
   "metadata": {},
   "outputs": [],
   "source": [
    "#each rows is in the format of :[45901655,'<spring-security><oauth-2.0>']\n",
    "#read from csv file, first column is post_id, second column is tags\n",
    "tagsrows = [] \n",
    "with open('Id_Tags.csv') as csvfile:\n",
    "    rows = csv.reader(csvfile, delimiter = ',')\n",
    "    for row in rows:\n",
    "        tagsrows.append(row)"
   ]
  },
  {
   "cell_type": "code",
   "execution_count": 4,
   "metadata": {},
   "outputs": [],
   "source": [
    "TagNames = [] #import all the tags on StackOverflow\n",
    "with open('Tags.csv') as csvfile:\n",
    "    rows = csv.reader(csvfile,delimiter = ',')\n",
    "    for row in rows:\n",
    "        TagNames.append(row[0])"
   ]
  },
  {
   "cell_type": "code",
   "execution_count": 5,
   "metadata": {},
   "outputs": [],
   "source": [
    "#special terms that need to be filtered out when performing cleaning\n",
    "#A list of list, in the format of ['original term', 'designated term']"
   ]
  },
  {
   "cell_type": "code",
   "execution_count": 6,
   "metadata": {},
   "outputs": [],
   "source": [
    "special_terms = [['amazon-ec2','amazon-ec2'], ['amazon-s3','amazon-s3'],\n",
    "                 ['c++1z','c++'],['x11','x11'],['t4','t4'],\n",
    "                 ['x86','x86'],['x86-64','x86'],['base64','base64'],\n",
    "                 ['mp3','mp3'],['mp4','mp4'],['v8','v8'],\n",
    "                 ['flex3','flex'],['h2','h2'],['python-2.x','python'],\n",
    "                 ['8086','8086'], ['h.264', 'h.264'],['flex4','flex'],\n",
    "                 ['x509','x509'],['flex4.5','flex'],['z3','z3'],\n",
    "                 ['opencv3.0','opencv'],['python-3.x','python'],\n",
    "                 ['opencv3.2','opencv'],['tr2','tr']\n",
    "                 ]"
   ]
  },
  {
   "cell_type": "code",
   "execution_count": 7,
   "metadata": {},
   "outputs": [],
   "source": [
    "updated_rows = [] #arrays to host rows that needs to be updated\n",
    "no_change = [] #arrays with rows of no change"
   ]
  },
  {
   "cell_type": "code",
   "execution_count": 8,
   "metadata": {},
   "outputs": [],
   "source": [
    "#each rows is in the format of :[45901655,'<spring-security><oauth-2.0>']\n",
    "for row in tagsrows:\n",
    "    \n",
    "    #firstly, check tags is not None\n",
    "    if row[1] is not None:\n",
    "        \n",
    "        #proceed to do cleaning\n",
    "        id = row[0]\n",
    "        original_tags = row[1]\n",
    "        \n",
    "        #track whether tags are cleaned and changed\n",
    "        changed = False\n",
    "        \n",
    "        #updated row\n",
    "        new_row = []\n",
    "        \n",
    "        #split tags into seperate tag\n",
    "        subbed_tags = re.sub('<|>',' ', original_tags)\n",
    "        split_tags = subbed_tags.split()\n",
    "        \n",
    "        #for each tag, perform the cleaning:\n",
    "        for i, tag in enumerate(split_tags):\n",
    "            \n",
    "            original_tag = tag\n",
    "            temp_tag = tag\n",
    "            cleaned_tag = None\n",
    "            \n",
    "            #firstly, check whether it is one of the special terms\n",
    "            for term in special_terms:\n",
    "                if original_tag == term[0]:\n",
    "                    cleaned_tag = term[1]\n",
    "                    break #tag is cleaned\n",
    "                    \n",
    "            if cleaned_tag is None: #tag is not cleaned yet\n",
    "                #check whether it ends with 'N(.Nxrv)'\n",
    "                #need to check multiple times because there can be tags with format of 'python-3.6-v2'\n",
    "                while bool(re.search('[xvr]*[0-9.]+$',temp_tag)):\n",
    "                    if bool(re.search('-[xvr]*[0-9.]+$',temp_tag)):\n",
    "                        temp_tag = re.sub('-[xvr]*[0-9.]+$','',temp_tag)\n",
    "                    else:\n",
    "                        temp_tag = re.sub('[xvr]*[0-9.]+$','',temp_tag)\n",
    "                        \n",
    "                #at the end of the while loop, the temp_tag doesn't contain any uncleaned format\n",
    "                cleaned_tag = temp_tag\n",
    "            \n",
    "            #if cleaned tag is not the same as the original tag, need to update\n",
    "            if cleaned_tag != original_tag:\n",
    "                \n",
    "                #check if the cleaned tag exists in the tags on stackoverflow, if not,\n",
    "                #the cleaned tag is not valid as a tag name, continue to use original tag\n",
    "                if cleaned_tag in TagNames:\n",
    "                    split_tags[i] = cleaned_tag\n",
    "                    changed = True\n",
    "                else:\n",
    "                    print(cleaned_tag + 'doesn\\'t exist on StackOverflow')\n",
    "        \n",
    "        if changed: \n",
    "            #now that tags are all cleaned, put them back into the format of '<python><java><c>'\n",
    "            #note that this will change the order of the tags(rank in alphabetical order)\n",
    "            split_tag_set = set(split_tags)\n",
    "            #join them by <>\n",
    "            cleaned_tags = '<'+\"><\".join(split_tag_set)+'>'\n",
    "            #append id to new_row\n",
    "            new_row.append(id)\n",
    "            #append cleaned tags\n",
    "            new_row.append(cleaned_tags)\n",
    "            #append new row to updated row\n",
    "            updated_rows.append(new_row)\n",
    "            \n",
    "        else:\n",
    "            #only delete repetitive tags\n",
    "            split_tag_set = set(split_tags)\n",
    "            #join them by <>\n",
    "            cleaned_tags = '<'+\"><\".join(split_tag_set)+'>'\n",
    "            #append id to new_row\n",
    "            new_row.append(id)\n",
    "            #append cleaned tags\n",
    "            new_row.append(cleaned_tags)\n",
    "            #append new row to updated row\n",
    "            no_change.append(new_row)"
   ]
  },
  {
   "cell_type": "code",
   "execution_count": 9,
   "metadata": {},
   "outputs": [],
   "source": [
    "csvfile = 'Id_CleanedTags.csv'\n",
    "with open(csvfile,'w') as output:\n",
    "    writer = csv.writer(output,lineterminator = '\\n')\n",
    "    writer.writerow(['Id','Tags'])\n",
    "    if no_change is not None:\n",
    "        writer.writerows(no_change)\n",
    "    if updated_rows is not None:\n",
    "        writer.writerows(updated_rows)"
   ]
  },
  {
   "cell_type": "code",
   "execution_count": null,
   "metadata": {},
   "outputs": [],
   "source": []
  }
 ],
 "metadata": {
  "kernelspec": {
   "display_name": "Python 3",
   "language": "python",
   "name": "python3"
  },
  "language_info": {
   "codemirror_mode": {
    "name": "ipython",
    "version": 3
   },
   "file_extension": ".py",
   "mimetype": "text/x-python",
   "name": "python",
   "nbconvert_exporter": "python",
   "pygments_lexer": "ipython3",
   "version": "3.6.4"
  }
 },
 "nbformat": 4,
 "nbformat_minor": 2
}
